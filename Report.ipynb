{
 "cells": [
  {
   "cell_type": "markdown",
   "source": [
    "<h1>ASAT </h1>\r\n",
    "<style>\r\n",
    "    h1{text-align:center}\r\n",
    "</style>"
   ],
   "metadata": {}
  },
  {
   "cell_type": "markdown",
   "source": [
    "<h2 style=\"text-align:center;margin-bottom:50px\">Aeronautics Recruitment: Software Development\r\n",
    "Subsystem\r\n",
    "</h2>\r\n"
   ],
   "metadata": {}
  },
  {
   "cell_type": "markdown",
   "source": [
    "<div>\r\n",
    "    <h3>Autopilot Overview</h3>\r\n",
    "    <p>For a UAV to be able to function autonomously, an interactive understanding of its environment is essential. To achieve that, the vehicle needs to integrate a series of sensors that will provide information on its location, orientation, speed, altitude, etc. Such sensors are a 3-axis gyroscope, a GPS (Global Positioning System), an accelerometer, an altimeter, and an airspeed sensor. Due to the objective of project Phoenix (fire detection), a thermal and a regular camera are required. For the UAV to be able to communicate and detect other aircraft, it can use ADS-B technology (Automatic Dependent Surveillance-Broadcast). The hardware mentioned above should comply with the pixhawk open standards to avoid unnecessary incompatibilities</p>\r\n",
    "    <p>Apart from the sensor's data, the autopilot needs additional input from the user to plan its route accordingly. The user shall specify the destination, flight altitude, and speed of the aircraft. There should also be an option to add waypoints. With the purpose of fire detection, it should include a mode that allows the user to select an area for scanning, letting the UAV roam above it.</p>\r\n",
    "    <p>Autopilot software dfdfd</p>\r\n",
    "</div>"
   ],
   "metadata": {}
  },
  {
   "cell_type": "markdown",
   "source": [
    "<div>\r\n",
    "    <h3>Αλγόριθμος του Dijkstra</h3>\r\n",
    "    <p></p>\r\n",
    "</div>"
   ],
   "metadata": {}
  },
  {
   "cell_type": "code",
   "execution_count": 13,
   "source": [
    "import numpy as np"
   ],
   "outputs": [],
   "metadata": {}
  },
  {
   "cell_type": "code",
   "execution_count": 14,
   "source": [
    "connections = [\r\n",
    "    [0, 1, 0, 3, 10],\r\n",
    "    [1, 0, 5, 0, 0],\r\n",
    "    [0, 5, 0, 2, 1],\r\n",
    "    [3, 0, 2, 0, 6],\r\n",
    "    [10, 0, 1, 6, 0]\r\n",
    "    ]"
   ],
   "outputs": [],
   "metadata": {}
  },
  {
   "cell_type": "code",
   "execution_count": 15,
   "source": [
    "baseNode=0\r\n",
    "weight=[]\r\n",
    "unvisited=[]\r\n",
    "minimum=0"
   ],
   "outputs": [],
   "metadata": {}
  },
  {
   "cell_type": "code",
   "execution_count": 16,
   "source": [
    "for i in range(0, len(connections)):\r\n",
    "    weight.append(np.infty)\r\n",
    "    unvisited.append(i)\r\n",
    "weight[baseNode]=0"
   ],
   "outputs": [],
   "metadata": {}
  },
  {
   "cell_type": "code",
   "execution_count": 17,
   "source": [
    "while len(unvisited) != 0:\r\n",
    "    for i in unvisited:\r\n",
    "        if minimum>=weight[i]:\r\n",
    "            minimum=weight[i]\r\n",
    "    i=weight.index(minimum)\r\n",
    "    unvisited.remove(i)\r\n",
    "    for j in range(0, len(connections)):\r\n",
    "        if connections[i][j]!=0:\r\n",
    "            weight[j]=min(weight[j], weight[i]+connections[i][j])\r\n",
    "    minimum=max(weight)"
   ],
   "outputs": [],
   "metadata": {}
  },
  {
   "cell_type": "code",
   "execution_count": 18,
   "source": [
    "print(\"==========================================\")\r\n",
    "print(\"Starting from node \" + str(baseNode+1) + \" :\")\r\n",
    "print(\"Minimum distance to other nodes:\\n\")\r\n",
    "print(\"Node    Distance\\n---------------\")\r\n",
    "\r\n",
    "for j in range(0, len(connections)):\r\n",
    "    print(j+1, \"\\t\\t\", weight[j])\r\n",
    "\r\n",
    "print(\"\\n==========================================\")"
   ],
   "outputs": [
    {
     "output_type": "stream",
     "name": "stdout",
     "text": [
      "==========================================\n",
      "Starting from node 1 :\n",
      "Minimum distance to other nodes:\n",
      "\n",
      "Node    Distance\n",
      "---------------\n",
      "1 \t\t 0\n",
      "2 \t\t 1\n",
      "3 \t\t 5\n",
      "4 \t\t 3\n",
      "5 \t\t 6\n",
      "\n",
      "==========================================\n"
     ]
    }
   ],
   "metadata": {}
  },
  {
   "cell_type": "markdown",
   "source": [
    "<div>\r\n",
    "    <h3>Κατηγοριοποιήση ψηφίων</h3>\r\n",
    "    <p></p>\r\n",
    "</div>"
   ],
   "metadata": {}
  },
  {
   "cell_type": "markdown",
   "source": [],
   "metadata": {}
  }
 ],
 "metadata": {
  "orig_nbformat": 4,
  "language_info": {
   "name": "python",
   "version": "3.9.7",
   "mimetype": "text/x-python",
   "codemirror_mode": {
    "name": "ipython",
    "version": 3
   },
   "pygments_lexer": "ipython3",
   "nbconvert_exporter": "python",
   "file_extension": ".py"
  },
  "kernelspec": {
   "name": "python3",
   "display_name": "Python 3.9.7 64-bit"
  },
  "interpreter": {
   "hash": "b8c4aa714b434934377800ec08a936821a0c59d2fd3ecee2ac492715905cb910"
  }
 },
 "nbformat": 4,
 "nbformat_minor": 2
}